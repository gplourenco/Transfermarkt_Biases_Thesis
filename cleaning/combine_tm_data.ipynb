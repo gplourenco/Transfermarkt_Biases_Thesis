{
 "cells": [
  {
   "cell_type": "code",
   "execution_count": 1,
   "metadata": {},
   "outputs": [],
   "source": [
    "import os\n",
    "import pandas as pd"
   ]
  },
  {
   "cell_type": "code",
   "execution_count": 2,
   "metadata": {},
   "outputs": [],
   "source": [
    "def load_and_concatenate_csv(base_dir):\n",
    "    \"\"\"\n",
    "    Load and concatenate all CSV files from the specified base directory, excluding those in 'archive' folders.\n",
    "\n",
    "    Parameters:\n",
    "    - base_dir (str): The base directory containing the CSV files.\n",
    "\n",
    "    Returns:\n",
    "    - pd.DataFrame: A concatenated DataFrame of all CSV files.\n",
    "    \"\"\"\n",
    "    dataframes = []\n",
    "    for root, dirs, files in os.walk(base_dir):\n",
    "        for file in files:\n",
    "            if file.endswith(\".csv\") and \"archive\" not in root:\n",
    "                file_path = os.path.join(root, file)\n",
    "                try:\n",
    "                    df = pd.read_csv(file_path)\n",
    "                    dataframes.append(df)\n",
    "                    print(f\"Loaded {file_path}\")\n",
    "                except Exception as e:\n",
    "                    print(f\"Error reading {file_path}: {e}\")\n",
    "\n",
    "    return pd.concat(dataframes, ignore_index=True)"
   ]
  },
  {
   "cell_type": "code",
   "execution_count": 5,
   "metadata": {},
   "outputs": [],
   "source": [
    "HISTORICAL_BASE_DIR = \"../data/tm/raw/historical_market_values\"\n",
    "BIO_BASE_DIR = \"../data/tm/raw/bio\"\n"
   ]
  },
  {
   "cell_type": "code",
   "execution_count": null,
   "metadata": {},
   "outputs": [],
   "source": [
    "tm_values = load_and_concatenate_csv(HISTORICAL_BASE_DIR)"
   ]
  },
  {
   "cell_type": "code",
   "execution_count": null,
   "metadata": {},
   "outputs": [],
   "source": [
    "player_bio = load_and_concatenate_csv(BIO_BASE_DIR)"
   ]
  },
  {
   "cell_type": "code",
   "execution_count": 22,
   "metadata": {},
   "outputs": [],
   "source": [
    "player_bio = player_bio[['player_id', 'player_name', 'position']]\n",
    "player_bio = player_bio.drop_duplicates(subset='player_id')"
   ]
  },
  {
   "cell_type": "code",
   "execution_count": 23,
   "metadata": {},
   "outputs": [],
   "source": [
    "# Remove the 'season' column\n",
    "tm_values_filtered = tm_values.drop(columns=['season', 'league_code'])\n",
    "\n",
    "# Drop duplicates based on the remaining columns\n",
    "tm_values_unique = tm_values_filtered.drop_duplicates()\n",
    "\n",
    "tm_values_unique = tm_values_unique.dropna(subset=['date'])"
   ]
  },
  {
   "cell_type": "code",
   "execution_count": 24,
   "metadata": {},
   "outputs": [],
   "source": [
    "# Strip leading/trailing spaces from the 'date' column\n",
    "tm_values_unique['date'] = tm_values_unique['date'].str.strip()\n",
    "tm_values_unique['date'] = pd.to_datetime(tm_values_unique['date'], format='%b %d, %Y')"
   ]
  },
  {
   "cell_type": "code",
   "execution_count": 25,
   "metadata": {},
   "outputs": [],
   "source": [
    "# Step 4: Define the date range for filtering\n",
    "start_date = '2017-05-01'\n",
    "end_date = '2021-07-31'\n",
    "\n",
    "# Filter the DataFrame based on the date range\n",
    "filtered_tm_values = tm_values_unique[\n",
    "    (tm_values_unique['date'] >= start_date) & (tm_values_unique['date'] <= end_date)\n",
    "]"
   ]
  },
  {
   "cell_type": "code",
   "execution_count": 26,
   "metadata": {},
   "outputs": [],
   "source": [
    "merged_df = pd.merge(filtered_tm_values, player_bio, left_on='tm_id', right_on='player_id')\n",
    "merged_df = merged_df.drop(columns=['tm_id'])"
   ]
  },
  {
   "cell_type": "code",
   "execution_count": 27,
   "metadata": {},
   "outputs": [],
   "source": [
    "merged_df.to_csv('../data/tm/processed/tm_values.csv', index=False)\n"
   ]
  }
 ],
 "metadata": {
  "kernelspec": {
   "display_name": "general_env",
   "language": "python",
   "name": "python3"
  },
  "language_info": {
   "codemirror_mode": {
    "name": "ipython",
    "version": 3
   },
   "file_extension": ".py",
   "mimetype": "text/x-python",
   "name": "python",
   "nbconvert_exporter": "python",
   "pygments_lexer": "ipython3",
   "version": "3.10.6"
  }
 },
 "nbformat": 4,
 "nbformat_minor": 2
}
