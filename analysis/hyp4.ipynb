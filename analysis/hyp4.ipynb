{
 "cells": [
  {
   "cell_type": "code",
   "execution_count": 1,
   "metadata": {},
   "outputs": [],
   "source": [
    "# Import necessary libraries\n",
    "import pandas as pd\n",
    "import statsmodels.api as sm\n",
    "from linearmodels.panel import PanelOLS\n",
    "from sklearn.preprocessing import StandardScaler\n",
    "\n",
    "# Load the data\n",
    "data_panel = pd.read_csv('../data/final/data_panel_hyp1.csv')"
   ]
  },
  {
   "cell_type": "code",
   "execution_count": 2,
   "metadata": {},
   "outputs": [],
   "source": [
    "# Create variable for performance in the previous season\n",
    "data_panel['Performance_Prev_Season'] = data_panel.groupby('Player')['Overall_Performance_Index'].shift(1)\n",
    "\n",
    "# Drop na values\n",
    "data_panel.dropna(inplace=True)"
   ]
  },
  {
   "cell_type": "code",
   "execution_count": 3,
   "metadata": {},
   "outputs": [],
   "source": [
    "# Step 1: Calculate Overvaluation Measure\n",
    "\n",
    "# Regression of Log_MV1 on Overall_Performance_Index and controls to get residuals\n",
    "X_overvaluation_vars = [\n",
    "    'Performance_Prev_Season', 'Age', 'Team_Rating', 'Min', 'Latest_Transfer_Fee'\n",
    "]\n",
    "\n",
    "X_overvaluation = data_panel[X_overvaluation_vars]\n",
    "X_overvaluation = sm.add_constant(X_overvaluation)\n",
    "\n",
    "Y_overvaluation = data_panel['Log_MV1']\n",
    "\n",
    "# Fit the OLS regression\n",
    "overvaluation_model = sm.OLS(Y_overvaluation, X_overvaluation)\n",
    "overvaluation_results = overvaluation_model.fit()"
   ]
  },
  {
   "cell_type": "code",
   "execution_count": 4,
   "metadata": {},
   "outputs": [],
   "source": [
    "# Get the residuals (Overvaluation measure)\n",
    "data_panel['Overvaluation'] = overvaluation_results.resid\n",
    "\n",
    "# Standardize Overvaluation measure using StandardScaler\n",
    "scaler = StandardScaler()\n",
    "data_panel['Overvaluation'] = scaler.fit_transform(data_panel[['Overvaluation']])"
   ]
  },
  {
   "cell_type": "code",
   "execution_count": 5,
   "metadata": {},
   "outputs": [],
   "source": [
    "# Create interaction term between Overvaluation and Performance Decline\n",
    "data_panel['Overvaluation_x_Underperformance'] = data_panel['Overvaluation'] * data_panel['Underperformance_Magnitude']"
   ]
  },
  {
   "cell_type": "code",
   "execution_count": 6,
   "metadata": {},
   "outputs": [
    {
     "name": "stdout",
     "output_type": "stream",
     "text": [
      "                          PanelOLS Estimation Summary                           \n",
      "================================================================================\n",
      "Dep. Variable:          Log_Return_MV   R-squared:                        0.4911\n",
      "Estimator:                   PanelOLS   R-squared (Between):             -1.6811\n",
      "No. Observations:                3366   R-squared (Within):               0.4911\n",
      "Date:                Thu, Oct 10 2024   R-squared (Overall):             -0.3459\n",
      "Time:                        13:21:33   Log-likelihood                    246.04\n",
      "Cov. Estimator:                Robust                                           \n",
      "                                        F-statistic:                      308.37\n",
      "Entities:                        1122   P-value                           0.0000\n",
      "Avg Obs:                       3.0000   Distribution:                  F(7,2237)\n",
      "Min Obs:                       3.0000                                           \n",
      "Max Obs:                       3.0000   F-statistic (robust):             200.30\n",
      "                                        P-value                           0.0000\n",
      "Time periods:                       3   Distribution:                  F(7,2237)\n",
      "Avg Obs:                       1122.0                                           \n",
      "Min Obs:                       1122.0                                           \n",
      "Max Obs:                       1122.0                                           \n",
      "                                                                                \n",
      "                                        Parameter Estimates                                         \n",
      "====================================================================================================\n",
      "                                  Parameter  Std. Err.     T-stat    P-value    Lower CI    Upper CI\n",
      "----------------------------------------------------------------------------------------------------\n",
      "Overvaluation                       -0.3320     0.0160    -20.698     0.0000     -0.3634     -0.3005\n",
      "Underperformance_Magnitude          -0.0834     0.0134    -6.2388     0.0000     -0.1096     -0.0572\n",
      "Overvaluation_x_Underperformance     0.0206     0.0123     1.6646     0.0961     -0.0037      0.0448\n",
      "Age                                 -0.4217     0.0240    -17.564     0.0000     -0.4687     -0.3746\n",
      "Team_Rating                         -0.0490     0.0137    -3.5747     0.0004     -0.0759     -0.0221\n",
      "Min                                  0.0376     0.0112     3.3622     0.0008      0.0157      0.0595\n",
      "Latest_Transfer_Fee                 -0.1643     0.0190    -8.6578     0.0000     -0.2016     -0.1271\n",
      "====================================================================================================\n",
      "\n",
      "F-test for Poolability: 1.6358\n",
      "P-value: 0.0000\n",
      "Distribution: F(1121,2237)\n",
      "\n",
      "Included effects: Entity\n"
     ]
    }
   ],
   "source": [
    "# Update independent variables\n",
    "X_hypB_int_vars = [\n",
    "    'Overvaluation', 'Underperformance_Magnitude', 'Overvaluation_x_Underperformance',\n",
    "    'Age', 'Team_Rating', 'Min', 'Latest_Transfer_Fee'\n",
    "]\n",
    "\n",
    "# Prepare variables\n",
    "data_hypB_int = data_panel.set_index(['Player', 'Season'])\n",
    "\n",
    "X_hypB_int_panel = data_hypB_int[X_hypB_int_vars]\n",
    "Y_hypB_int_panel = data_hypB_int['Log_Return_MV']\n",
    "\n",
    "# Fit the Fixed Effects model with entity effects\n",
    "hypB_int_model = PanelOLS(Y_hypB_int_panel, X_hypB_int_panel, entity_effects=True)\n",
    "hypB_int_results = hypB_int_model.fit(cov_type='robust')\n",
    "\n",
    "# Display the summary\n",
    "print(hypB_int_results.summary)"
   ]
  }
 ],
 "metadata": {
  "kernelspec": {
   "display_name": "general_env",
   "language": "python",
   "name": "python3"
  },
  "language_info": {
   "codemirror_mode": {
    "name": "ipython",
    "version": 3
   },
   "file_extension": ".py",
   "mimetype": "text/x-python",
   "name": "python",
   "nbconvert_exporter": "python",
   "pygments_lexer": "ipython3",
   "version": "3.10.6"
  }
 },
 "nbformat": 4,
 "nbformat_minor": 2
}
