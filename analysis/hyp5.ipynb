{
 "cells": [
  {
   "cell_type": "code",
   "execution_count": 1,
   "metadata": {},
   "outputs": [],
   "source": [
    "# Import necessary libraries\n",
    "import pandas as pd\n",
    "from linearmodels import PanelOLS"
   ]
  },
  {
   "cell_type": "code",
   "execution_count": 2,
   "metadata": {},
   "outputs": [],
   "source": [
    "# Load data\n",
    "data_panel = pd.read_csv('../data/final/data_panel_hyp1.csv')"
   ]
  },
  {
   "cell_type": "code",
   "execution_count": 3,
   "metadata": {},
   "outputs": [],
   "source": [
    "data_panel['Young'] = (data_panel['Age_Original'] <= 24).astype(int)"
   ]
  },
  {
   "cell_type": "code",
   "execution_count": 4,
   "metadata": {},
   "outputs": [],
   "source": [
    "# Create interaction terms\n",
    "data_panel['Young_Underperform'] = data_panel['Underperformance_Magnitude'] * data_panel['Young']\n",
    "data_panel['Young_MV1'] = data_panel['Log_MV1'] * data_panel['Young']\n",
    "\n",
    "data_panel.set_index(['Player', 'Season'], inplace=True)"
   ]
  },
  {
   "cell_type": "code",
   "execution_count": 5,
   "metadata": {},
   "outputs": [
    {
     "name": "stdout",
     "output_type": "stream",
     "text": [
      "                          PanelOLS Estimation Summary                           \n",
      "================================================================================\n",
      "Dep. Variable:          Log_Return_MV   R-squared:                        0.7046\n",
      "Estimator:                   PanelOLS   R-squared (Between):             -0.7893\n",
      "No. Observations:                4488   R-squared (Within):               0.7046\n",
      "Date:                Thu, Oct 10 2024   R-squared (Overall):              0.3349\n",
      "Time:                        13:21:33   Log-likelihood                   -603.20\n",
      "Cov. Estimator:                Robust                                           \n",
      "                                        F-statistic:                      1001.2\n",
      "Entities:                        1122   P-value                           0.0000\n",
      "Avg Obs:                       4.0000   Distribution:                  F(8,3358)\n",
      "Min Obs:                       4.0000                                           \n",
      "Max Obs:                       4.0000   F-statistic (robust):             564.52\n",
      "                                        P-value                           0.0000\n",
      "Time periods:                       4   Distribution:                  F(8,3358)\n",
      "Avg Obs:                       1122.0                                           \n",
      "Min Obs:                       1122.0                                           \n",
      "Max Obs:                       1122.0                                           \n",
      "                                                                                \n",
      "                                     Parameter Estimates                                      \n",
      "==============================================================================================\n",
      "                            Parameter  Std. Err.     T-stat    P-value    Lower CI    Upper CI\n",
      "----------------------------------------------------------------------------------------------\n",
      "Young_Underperform            -0.1318     0.0256    -5.1561     0.0000     -0.1819     -0.0817\n",
      "Young_MV1                     -0.1158     0.0202    -5.7376     0.0000     -0.1553     -0.0762\n",
      "Underperformance_Magnitude    -0.0331     0.0134    -2.4761     0.0133     -0.0594     -0.0069\n",
      "Log_MV1                       -0.5947     0.0173    -34.394     0.0000     -0.6286     -0.5608\n",
      "Age                           -0.4991     0.0186    -26.768     0.0000     -0.5356     -0.4625\n",
      "Team_Rating                    0.1343     0.0107     12.576     0.0000      0.1134      0.1553\n",
      "Min                            0.2447     0.0091     27.013     0.0000      0.2269      0.2624\n",
      "Latest_Transfer_Fee            0.0341     0.0144     2.3658     0.0180      0.0058      0.0624\n",
      "==============================================================================================\n",
      "\n",
      "F-test for Poolability: 2.3370\n",
      "P-value: 0.0000\n",
      "Distribution: F(1121,3358)\n",
      "\n",
      "Included effects: Entity\n"
     ]
    }
   ],
   "source": [
    "Y = data_panel['Log_Return_MV']\n",
    "\n",
    "# Define the independent variables\n",
    "independent_vars = [\n",
    "    'Young_Underperform',\n",
    "    'Young_MV1',\n",
    "    'Underperformance_Magnitude',\n",
    "    'Log_MV1',\n",
    "    'Age',\n",
    "    'Team_Rating',\n",
    "    'Min',\n",
    "    'Latest_Transfer_Fee'\n",
    "]\n",
    "\n",
    "# Create the exogenous variables DataFrame\n",
    "X = data_panel[independent_vars]\n",
    "\n",
    "model = PanelOLS(Y, X, entity_effects=True)\n",
    "results = model.fit(cov_type='robust')\n",
    "\n",
    "# Display the summary\n",
    "print(results.summary)"
   ]
  }
 ],
 "metadata": {
  "kernelspec": {
   "display_name": "general_env",
   "language": "python",
   "name": "python3"
  },
  "language_info": {
   "codemirror_mode": {
    "name": "ipython",
    "version": 3
   },
   "file_extension": ".py",
   "mimetype": "text/x-python",
   "name": "python",
   "nbconvert_exporter": "python",
   "pygments_lexer": "ipython3",
   "version": "3.10.6"
  }
 },
 "nbformat": 4,
 "nbformat_minor": 2
}
