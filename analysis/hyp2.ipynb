{
 "cells": [
  {
   "cell_type": "code",
   "execution_count": 2,
   "metadata": {},
   "outputs": [],
   "source": [
    "import pandas as pd\n",
    "from linearmodels.panel import PanelOLS"
   ]
  },
  {
   "cell_type": "code",
   "execution_count": 5,
   "metadata": {},
   "outputs": [],
   "source": [
    "# Load data\n",
    "data_panel = pd.read_csv('../data/final/data_panel_hyp1.csv')"
   ]
  },
  {
   "cell_type": "code",
   "execution_count": 3,
   "metadata": {},
   "outputs": [],
   "source": [
    "# Create lagged variables\n",
    "data_panel['Lagged_Log_Return_MV'] = data_panel.groupby('Player')['Log_Return_MV'].shift(1)\n",
    "data_panel['Lagged_Underperformance_Magnitude'] = data_panel.groupby('Player')['Underperformance_Magnitude'].shift(1)\n",
    "\n",
    "# Drop missing values due to lagging\n",
    "data_panel = data_panel.dropna()\n",
    "\n",
    "# Set the index again\n",
    "data_panel.set_index(['Player', 'Season'], inplace=True)"
   ]
  },
  {
   "cell_type": "code",
   "execution_count": 4,
   "metadata": {},
   "outputs": [
    {
     "name": "stdout",
     "output_type": "stream",
     "text": [
      "                          PanelOLS Estimation Summary                           \n",
      "================================================================================\n",
      "Dep. Variable:          Log_Return_MV   R-squared:                        0.5353\n",
      "Estimator:                   PanelOLS   R-squared (Between):             -3.4125\n",
      "No. Observations:                3366   R-squared (Within):               0.5353\n",
      "Date:                Thu, Oct 10 2024   R-squared (Overall):             -0.9858\n",
      "Time:                        13:21:28   Log-likelihood                    399.00\n",
      "Cov. Estimator:                Robust                                           \n",
      "                                        F-statistic:                      368.11\n",
      "Entities:                        1122   P-value                           0.0000\n",
      "Avg Obs:                       3.0000   Distribution:                  F(7,2237)\n",
      "Min Obs:                       3.0000                                           \n",
      "Max Obs:                       3.0000   F-statistic (robust):             233.79\n",
      "                                        P-value                           0.0000\n",
      "Time periods:                       3   Distribution:                  F(7,2237)\n",
      "Avg Obs:                       1122.0                                           \n",
      "Min Obs:                       1122.0                                           \n",
      "Max Obs:                       1122.0                                           \n",
      "                                                                                \n",
      "                                         Parameter Estimates                                         \n",
      "=====================================================================================================\n",
      "                                   Parameter  Std. Err.     T-stat    P-value    Lower CI    Upper CI\n",
      "-----------------------------------------------------------------------------------------------------\n",
      "Underperformance_Magnitude           -0.0604     0.0121    -4.9818     0.0000     -0.0842     -0.0366\n",
      "Age                                  -0.7329     0.0309    -23.744     0.0000     -0.7934     -0.6724\n",
      "Min                                   0.1867     0.0089     20.965     0.0000      0.1692      0.2042\n",
      "Team_Rating                           0.0986     0.0112     8.8402     0.0000      0.0767      0.1205\n",
      "Log_MV1                              -0.5751     0.0235    -24.506     0.0000     -0.6211     -0.5291\n",
      "Lagged_Log_Return_MV                 -0.0893     0.0124    -7.1842     0.0000     -0.1136     -0.0649\n",
      "Lagged_Underperformance_Magnitude    -0.0337     0.0140    -2.4167     0.0157     -0.0611     -0.0064\n",
      "=====================================================================================================\n",
      "\n",
      "F-test for Poolability: 1.8586\n",
      "P-value: 0.0000\n",
      "Distribution: F(1121,2237)\n",
      "\n",
      "Included effects: Entity\n"
     ]
    }
   ],
   "source": [
    "# Define the dependent variable\n",
    "Y = data_panel['Log_Return_MV']\n",
    "\n",
    "# Define the independent variables, including lagged variables\n",
    "X = data_panel[\n",
    "    [\n",
    "        'Underperformance_Magnitude',\n",
    "        'Age',\n",
    "        'Min',\n",
    "        'Team_Rating',\n",
    "        'Log_MV1',\n",
    "        'Lagged_Log_Return_MV',\n",
    "        'Lagged_Underperformance_Magnitude'\n",
    "    ]\n",
    "]\n",
    "\n",
    "# Fit the fixed effects model\n",
    "fe_model = PanelOLS(Y, X, entity_effects=True)\n",
    "fe_results = fe_model.fit(cov_type=\"robust\")\n",
    "print(fe_results)"
   ]
  }
 ],
 "metadata": {
  "kernelspec": {
   "display_name": "general_env",
   "language": "python",
   "name": "python3"
  },
  "language_info": {
   "codemirror_mode": {
    "name": "ipython",
    "version": 3
   },
   "file_extension": ".py",
   "mimetype": "text/x-python",
   "name": "python",
   "nbconvert_exporter": "python",
   "pygments_lexer": "ipython3",
   "version": "3.10.6"
  }
 },
 "nbformat": 4,
 "nbformat_minor": 2
}
