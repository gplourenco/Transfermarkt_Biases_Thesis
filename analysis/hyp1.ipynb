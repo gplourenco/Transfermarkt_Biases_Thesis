{
 "cells": [
  {
   "cell_type": "code",
   "execution_count": 1,
   "metadata": {},
   "outputs": [],
   "source": [
    "import pandas as pd\n",
    "import numpy as np\n",
    "import matplotlib.pyplot as plt\n",
    "from linearmodels.panel import PanelOLS\n",
    "\n",
    "# Load the data\n",
    "data_panel = pd.read_csv('../data/final/data_panel.csv')\n",
    "\n",
    "# Set the index\n",
    "data_panel.set_index(['Player', 'Season'], inplace=True)"
   ]
  },
  {
   "cell_type": "code",
   "execution_count": 2,
   "metadata": {},
   "outputs": [
    {
     "name": "stdout",
     "output_type": "stream",
     "text": [
      "                          PanelOLS Estimation Summary                           \n",
      "================================================================================\n",
      "Dep. Variable:          Log_Return_MV   R-squared:                        0.7001\n",
      "Estimator:                   PanelOLS   R-squared (Between):             -1.0287\n",
      "No. Observations:                4488   R-squared (Within):               0.7001\n",
      "Date:                Sun, Oct 20 2024   R-squared (Overall):              0.2722\n",
      "Time:                        21:27:49   Log-likelihood                   -637.11\n",
      "Cov. Estimator:                Robust                                           \n",
      "                                        F-statistic:                      1120.2\n",
      "Entities:                        1122   P-value                           0.0000\n",
      "Avg Obs:                       4.0000   Distribution:                  F(7,3359)\n",
      "Min Obs:                       4.0000                                           \n",
      "Max Obs:                       4.0000   F-statistic (robust):             590.93\n",
      "                                        P-value                           0.0000\n",
      "Time periods:                       4   Distribution:                  F(7,3359)\n",
      "Avg Obs:                       1122.0                                           \n",
      "Min Obs:                       1122.0                                           \n",
      "Max Obs:                       1122.0                                           \n",
      "                                                                                \n",
      "                                     Parameter Estimates                                     \n",
      "=============================================================================================\n",
      "                           Parameter  Std. Err.     T-stat    P-value    Lower CI    Upper CI\n",
      "---------------------------------------------------------------------------------------------\n",
      "Age                          -0.4965     0.0189    -26.293     0.0000     -0.5335     -0.4595\n",
      "Min                           0.2438     0.0093     26.344     0.0000      0.2256      0.2619\n",
      "Overall_Performance_Index     0.0549     0.0088     6.2617     0.0000      0.0377      0.0721\n",
      "Team_Rating                   0.1317     0.0114     11.576     0.0000      0.1094      0.1540\n",
      "Latest_Transfer_Fee           0.0420     0.0151     2.7845     0.0054      0.0124      0.0716\n",
      "Log_MV1                      -0.6771     0.0182    -37.274     0.0000     -0.7127     -0.6415\n",
      "Perf_MV1_Interaction         -0.0331     0.0092    -3.5831     0.0003     -0.0512     -0.0150\n",
      "=============================================================================================\n",
      "\n",
      "F-test for Poolability: 2.6514\n",
      "P-value: 0.0000\n",
      "Distribution: F(1121,3359)\n",
      "\n",
      "Included effects: Entity\n"
     ]
    }
   ],
   "source": [
    "# Fixed effects model\n",
    "Y = data_panel['Log_Return_MV']\n",
    "X = data_panel.drop(columns=['Log_Return_MV', 'Log_MV2', 'MP', 'Age_Original'])\n",
    "fe_model = PanelOLS(Y, X, entity_effects=True)\n",
    "fe_results = fe_model.fit(cov_type=\"robust\")\n",
    "print(fe_results)"
   ]
  },
  {
   "cell_type": "code",
   "execution_count": 3,
   "metadata": {},
   "outputs": [
    {
     "name": "stdout",
     "output_type": "stream",
     "text": [
      "                          PanelOLS Estimation Summary                           \n",
      "================================================================================\n",
      "Dep. Variable:          Log_Return_MV   R-squared:                        0.7004\n",
      "Estimator:                   PanelOLS   R-squared (Between):             -1.0920\n",
      "No. Observations:                4488   R-squared (Within):               0.7004\n",
      "Date:                Sun, Oct 20 2024   R-squared (Overall):              0.2568\n",
      "Time:                        21:27:52   Log-likelihood                   -634.71\n",
      "Cov. Estimator:                Robust                                           \n",
      "                                        F-statistic:                      1121.9\n",
      "Entities:                        1122   P-value                           0.0000\n",
      "Avg Obs:                       4.0000   Distribution:                  F(7,3359)\n",
      "Min Obs:                       4.0000                                           \n",
      "Max Obs:                       4.0000   F-statistic (robust):             598.59\n",
      "                                        P-value                           0.0000\n",
      "Time periods:                       4   Distribution:                  F(7,3359)\n",
      "Avg Obs:                       1122.0                                           \n",
      "Min Obs:                       1122.0                                           \n",
      "Max Obs:                       1122.0                                           \n",
      "                                                                                \n",
      "                                         Parameter Estimates                                          \n",
      "======================================================================================================\n",
      "                                    Parameter  Std. Err.     T-stat    P-value    Lower CI    Upper CI\n",
      "------------------------------------------------------------------------------------------------------\n",
      "Age                                   -0.4928     0.0190    -25.955     0.0000     -0.5300     -0.4555\n",
      "Min                                    0.2448     0.0092     26.734     0.0000      0.2269      0.2628\n",
      "Team_Rating                            0.1405     0.0110     12.820     0.0000      0.1190      0.1620\n",
      "Latest_Transfer_Fee                    0.0404     0.0151     2.6739     0.0075      0.0108      0.0700\n",
      "Log_MV1                               -0.6991     0.0188    -37.180     0.0000     -0.7359     -0.6622\n",
      "Underperformance_Magnitude            -0.0454     0.0147    -3.0921     0.0020     -0.0742     -0.0166\n",
      "Underperformer_Log_MV1_Interaction     0.0594     0.0154     3.8618     0.0001      0.0292      0.0895\n",
      "======================================================================================================\n",
      "\n",
      "F-test for Poolability: 2.6841\n",
      "P-value: 0.0000\n",
      "Distribution: F(1121,3359)\n",
      "\n",
      "Included effects: Entity\n"
     ]
    }
   ],
   "source": [
    "# Below average performance\n",
    "data_panel['Underperformance_Magnitude'] = -data_panel['Overall_Performance_Index']\n",
    "data_panel.loc[data_panel['Overall_Performance_Index'] >= 0, 'Underperformance_Magnitude'] = 0\n",
    "data_panel['Underperformer_Log_MV1_Interaction'] = data_panel['Underperformance_Magnitude'] * data_panel['Log_MV1']\n",
    "\n",
    "# Fixed effects model\n",
    "Y = data_panel['Log_Return_MV']\n",
    "X = data_panel.drop(columns=['Log_Return_MV', 'Log_MV2', 'Perf_MV1_Interaction', 'Overall_Performance_Index', 'MP', 'Age_Original'])\n",
    "fe_model = PanelOLS(Y, X, entity_effects=True)\n",
    "fe_results = fe_model.fit(cov_type=\"robust\")\n",
    "print(fe_results)"
   ]
  },
  {
   "cell_type": "code",
   "execution_count": 4,
   "metadata": {},
   "outputs": [],
   "source": [
    "# Create tiers of MV1\n",
    "data_panel['MV1_Tier'] = pd.qcut(data_panel['Log_MV1'], q=5, labels=['Lowest', 'Low', 'Medium', 'High', 'Highest'])\n",
    "\n",
    "# Create dummy variables for MV1_Tier, dropping the first category\n",
    "data_panel = pd.get_dummies(data_panel, columns=['MV1_Tier'], prefix='MV1_Tier', drop_first=True)"
   ]
  },
  {
   "cell_type": "code",
   "execution_count": 5,
   "metadata": {},
   "outputs": [
    {
     "name": "stdout",
     "output_type": "stream",
     "text": [
      "                          PanelOLS Estimation Summary                           \n",
      "================================================================================\n",
      "Dep. Variable:          Log_Return_MV   R-squared:                        0.5710\n",
      "Estimator:                   PanelOLS   R-squared (Between):             -10.538\n",
      "No. Observations:                4488   R-squared (Within):               0.5710\n",
      "Date:                Sun, Oct 20 2024   R-squared (Overall):             -2.1784\n",
      "Time:                        21:27:53   Log-likelihood                   -1440.7\n",
      "Cov. Estimator:                Robust                                           \n",
      "                                        F-statistic:                      343.25\n",
      "Entities:                        1122   P-value                           0.0000\n",
      "Avg Obs:                       4.0000   Distribution:                 F(13,3353)\n",
      "Min Obs:                       4.0000                                           \n",
      "Max Obs:                       4.0000   F-statistic (robust):             201.01\n",
      "                                        P-value                           0.0000\n",
      "Time periods:                       4   Distribution:                 F(13,3353)\n",
      "Avg Obs:                       1122.0                                           \n",
      "Min Obs:                       1122.0                                           \n",
      "Max Obs:                       1122.0                                           \n",
      "                                                                                \n",
      "                                     Parameter Estimates                                      \n",
      "==============================================================================================\n",
      "                            Parameter  Std. Err.     T-stat    P-value    Lower CI    Upper CI\n",
      "----------------------------------------------------------------------------------------------\n",
      "Underperformance_Magnitude    -0.1186     0.0264    -4.4984     0.0000     -0.1703     -0.0669\n",
      "MV1_Tier_Low                  -0.5849     0.0406    -14.414     0.0000     -0.6645     -0.5054\n",
      "MV1_Tier_Medium               -0.9339     0.0434    -21.540     0.0000     -1.0190     -0.8489\n",
      "MV1_Tier_High                 -1.2281     0.0491    -25.018     0.0000     -1.3244     -1.1319\n",
      "MV1_Tier_Highest              -1.5304     0.0564    -27.118     0.0000     -1.6410     -1.4197\n",
      "Underperf_Low                  0.0815     0.0369     2.2055     0.0275      0.0090      0.1539\n",
      "Underperf_Medium               0.0882     0.0386     2.2875     0.0222      0.0126      0.1638\n",
      "Underperf_High                 0.0744     0.0413     1.8001     0.0719     -0.0066      0.1555\n",
      "Underperf_Highest              0.1238     0.0537     2.3063     0.0212      0.0186      0.2291\n",
      "Age                           -0.5959     0.0218    -27.318     0.0000     -0.6386     -0.5531\n",
      "Min                            0.2175     0.0103     21.132     0.0000      0.1973      0.2377\n",
      "Team_Rating                    0.1276     0.0123     10.353     0.0000      0.1034      0.1518\n",
      "Latest_Transfer_Fee           -0.0285     0.0172    -1.6521     0.0986     -0.0623      0.0053\n",
      "==============================================================================================\n",
      "\n",
      "F-test for Poolability: 1.7901\n",
      "P-value: 0.0000\n",
      "Distribution: F(1121,3353)\n",
      "\n",
      "Included effects: Entity\n"
     ]
    }
   ],
   "source": [
    "# Create interaction terms between Underperformance_Magnitude and each MV1_Tier dummy\n",
    "data_panel['Underperf_Low'] = data_panel['Underperformance_Magnitude'] * data_panel['MV1_Tier_Low']\n",
    "data_panel['Underperf_Medium'] = data_panel['Underperformance_Magnitude'] * data_panel['MV1_Tier_Medium']\n",
    "data_panel['Underperf_High'] = data_panel['Underperformance_Magnitude'] * data_panel['MV1_Tier_High']\n",
    "data_panel['Underperf_Highest'] = data_panel['Underperformance_Magnitude'] * data_panel['MV1_Tier_Highest']\n",
    "\n",
    "# Define the dependent variable\n",
    "Y = data_panel['Log_Return_MV']\n",
    "\n",
    "# Define the independent variables\n",
    "X = data_panel[\n",
    "    [\n",
    "        'Underperformance_Magnitude',\n",
    "        'MV1_Tier_Low',\n",
    "        'MV1_Tier_Medium',\n",
    "        'MV1_Tier_High',\n",
    "        'MV1_Tier_Highest',\n",
    "        'Underperf_Low',\n",
    "        'Underperf_Medium',\n",
    "        'Underperf_High',\n",
    "        'Underperf_Highest',\n",
    "        'Age',\n",
    "        'Min',\n",
    "        'Team_Rating',\n",
    "        'Latest_Transfer_Fee'\n",
    "    ]\n",
    "]\n",
    "\n",
    "# Fit the Fixed Effects Model\n",
    "fe_model = PanelOLS(Y, X, entity_effects=True)\n",
    "fe_results = fe_model.fit(cov_type=\"robust\")\n",
    "print(fe_results)"
   ]
  },
  {
   "cell_type": "code",
   "execution_count": 6,
   "metadata": {},
   "outputs": [],
   "source": [
    "data_panel.to_csv('../data/final/data_panel_hyp1.csv')\n"
   ]
  }
 ],
 "metadata": {
  "kernelspec": {
   "display_name": "general_env",
   "language": "python",
   "name": "python3"
  },
  "language_info": {
   "codemirror_mode": {
    "name": "ipython",
    "version": 3
   },
   "file_extension": ".py",
   "mimetype": "text/x-python",
   "name": "python",
   "nbconvert_exporter": "python",
   "pygments_lexer": "ipython3",
   "version": "3.10.6"
  }
 },
 "nbformat": 4,
 "nbformat_minor": 2
}
