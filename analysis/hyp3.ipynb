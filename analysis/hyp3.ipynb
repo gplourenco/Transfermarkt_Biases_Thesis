{
 "cells": [
  {
   "cell_type": "code",
   "execution_count": 2,
   "metadata": {},
   "outputs": [],
   "source": [
    "# Import necessary libraries\n",
    "import pandas as pd\n",
    "from linearmodels.panel import PanelOLS\n",
    "import statsmodels.api as sm"
   ]
  },
  {
   "cell_type": "code",
   "execution_count": 3,
   "metadata": {},
   "outputs": [],
   "source": [
    "# Load data\n",
    "data_panel = pd.read_csv('../data/final/data_panel_hyp1.csv')"
   ]
  },
  {
   "cell_type": "code",
   "execution_count": 3,
   "metadata": {},
   "outputs": [],
   "source": [
    "# Create future performance variable\n",
    "data_panel['Future_Performance'] = data_panel.groupby('Player')['Overall_Performance_Index'].shift(-1)\n",
    "\n",
    "# Drop rows where Future_Performance is NaN\n",
    "data_stage1 = data_panel.dropna(subset=['Future_Performance'])"
   ]
  },
  {
   "cell_type": "code",
   "execution_count": 4,
   "metadata": {},
   "outputs": [
    {
     "name": "stdout",
     "output_type": "stream",
     "text": [
      "                            OLS Regression Results                            \n",
      "==============================================================================\n",
      "Dep. Variable:     Future_Performance   R-squared:                       0.273\n",
      "Model:                            OLS   Adj. R-squared:                  0.272\n",
      "Method:                 Least Squares   F-statistic:                     210.4\n",
      "Date:                Thu, 10 Oct 2024   Prob (F-statistic):          1.89e-228\n",
      "Time:                        13:21:30   Log-Likelihood:                -4217.9\n",
      "No. Observations:                3366   AIC:                             8450.\n",
      "Df Residuals:                    3359   BIC:                             8493.\n",
      "Df Model:                           6                                         \n",
      "Covariance Type:            nonrobust                                         \n",
      "=============================================================================================\n",
      "                                coef    std err          t      P>|t|      [0.025      0.975]\n",
      "---------------------------------------------------------------------------------------------\n",
      "const                        -0.2592      0.045     -5.752      0.000      -0.348      -0.171\n",
      "Log_MV2                       0.1149      0.020      5.742      0.000       0.076       0.154\n",
      "Overall_Performance_Index     0.3226      0.019     17.428      0.000       0.286       0.359\n",
      "Age                           0.0129      0.017      0.750      0.453      -0.021       0.047\n",
      "Team_Rating                   0.1488      0.020      7.465      0.000       0.110       0.188\n",
      "Min                           0.0276      0.018      1.544      0.123      -0.007       0.063\n",
      "Latest_Transfer_Fee           0.0353      0.018      1.956      0.051   -7.72e-05       0.071\n",
      "==============================================================================\n",
      "Omnibus:                      725.671   Durbin-Watson:                   2.047\n",
      "Prob(Omnibus):                  0.000   Jarque-Bera (JB):             8394.687\n",
      "Skew:                          -0.686   Prob(JB):                         0.00\n",
      "Kurtosis:                      10.614   Cond. No.                         9.59\n",
      "==============================================================================\n",
      "\n",
      "Notes:\n",
      "[1] Standard Errors assume that the covariance matrix of the errors is correctly specified.\n"
     ]
    }
   ],
   "source": [
    "# Define the dependent variable for Stage 1\n",
    "Y_stage1 = data_stage1['Future_Performance']\n",
    "\n",
    "# Define the independent variables for Stage 1\n",
    "X_stage1_vars = [\n",
    "    'Log_MV2', 'Overall_Performance_Index', 'Age',\n",
    "    'Team_Rating', 'Min', 'Latest_Transfer_Fee'\n",
    "]\n",
    "\n",
    "X_stage1 = data_stage1[X_stage1_vars]\n",
    "\n",
    "# Add a constant term\n",
    "X_stage1 = sm.add_constant(X_stage1)\n",
    "\n",
    "# Fit the OLS regression\n",
    "stage1_model = sm.OLS(Y_stage1, X_stage1)\n",
    "stage1_results = stage1_model.fit()\n",
    "\n",
    "# Display the summary\n",
    "print(stage1_results.summary())"
   ]
  },
  {
   "cell_type": "code",
   "execution_count": 5,
   "metadata": {},
   "outputs": [],
   "source": [
    "# Get the predicted (expected) future performance\n",
    "data_stage1 = data_stage1.copy()\n",
    "data_stage1['Expected_Future_Performance'] = stage1_results.predict(X_stage1)"
   ]
  },
  {
   "cell_type": "code",
   "execution_count": 6,
   "metadata": {},
   "outputs": [],
   "source": [
    "# Use data where Expected_Future_Performance is available\n",
    "data_stage2 = data_stage1.copy()\n",
    "\n",
    "# Set the index if not already set\n",
    "data_stage2 = data_stage2.set_index(['Player', 'Season'])"
   ]
  },
  {
   "cell_type": "code",
   "execution_count": 7,
   "metadata": {},
   "outputs": [],
   "source": [
    "# Create interaction term\n",
    "data_stage2['Expected_Future_Performance_Log_MV1'] = data_stage2['Expected_Future_Performance'] * data_stage2['Log_MV1']"
   ]
  },
  {
   "cell_type": "code",
   "execution_count": 8,
   "metadata": {},
   "outputs": [
    {
     "name": "stdout",
     "output_type": "stream",
     "text": [
      "                          PanelOLS Estimation Summary                           \n",
      "================================================================================\n",
      "Dep. Variable:          Log_Return_MV   R-squared:                        0.7856\n",
      "Estimator:                   PanelOLS   R-squared (Between):             -1.0144\n",
      "No. Observations:                3366   R-squared (Within):               0.7856\n",
      "Date:                Thu, Oct 10 2024   R-squared (Overall):              0.1912\n",
      "Time:                        13:21:30   Log-likelihood                    50.235\n",
      "Cov. Estimator:                Robust                                           \n",
      "                                        F-statistic:                      1170.8\n",
      "Entities:                        1122   P-value                           0.0000\n",
      "Avg Obs:                       3.0000   Distribution:                  F(7,2237)\n",
      "Min Obs:                       3.0000                                           \n",
      "Max Obs:                       3.0000   F-statistic (robust):             785.25\n",
      "                                        P-value                           0.0000\n",
      "Time periods:                       3   Distribution:                  F(7,2237)\n",
      "Avg Obs:                       1122.0                                           \n",
      "Min Obs:                       1122.0                                           \n",
      "Max Obs:                       1122.0                                           \n",
      "                                                                                \n",
      "                                          Parameter Estimates                                          \n",
      "=======================================================================================================\n",
      "                                     Parameter  Std. Err.     T-stat    P-value    Lower CI    Upper CI\n",
      "-------------------------------------------------------------------------------------------------------\n",
      "Expected_Future_Performance             0.3615     0.0324     11.174     0.0000      0.2981      0.4250\n",
      "Expected_Future_Performance_Log_MV1    -0.1758     0.0232    -7.5865     0.0000     -0.2212     -0.1303\n",
      "Log_MV1                                -0.8095     0.0177    -45.850     0.0000     -0.8442     -0.7749\n",
      "Age                                    -0.4145     0.0271    -15.323     0.0000     -0.4676     -0.3615\n",
      "Team_Rating                             0.0303     0.0149     2.0321     0.0423      0.0011      0.0596\n",
      "Min                                     0.1981     0.0109     18.239     0.0000      0.1768      0.2194\n",
      "Latest_Transfer_Fee                     0.0333     0.0161     2.0685     0.0387      0.0017      0.0648\n",
      "=======================================================================================================\n",
      "\n",
      "F-test for Poolability: 3.1517\n",
      "P-value: 0.0000\n",
      "Distribution: F(1121,2237)\n",
      "\n",
      "Included effects: Entity\n"
     ]
    }
   ],
   "source": [
    "# Define the independent variables for Stage 2\n",
    "X_stage2_vars = [\n",
    "    'Expected_Future_Performance', 'Expected_Future_Performance_Log_MV1', 'Log_MV1', 'Age', \n",
    "    'Team_Rating', 'Min', 'Latest_Transfer_Fee'\n",
    "]\n",
    "\n",
    "# Prepare the data for PanelOLS\n",
    "Y_stage2_panel = data_stage2['Log_Return_MV']\n",
    "X_stage2_panel = data_stage2[X_stage2_vars]\n",
    "\n",
    "# Fit the Fixed Effects model with entity effects\n",
    "stage2_model = PanelOLS(Y_stage2_panel, X_stage2_panel, entity_effects=True)\n",
    "stage2_results = stage2_model.fit(cov_type='robust')\n",
    "\n",
    "# Display the summary\n",
    "print(stage2_results.summary)"
   ]
  }
 ],
 "metadata": {
  "kernelspec": {
   "display_name": "general_env",
   "language": "python",
   "name": "python3"
  },
  "language_info": {
   "codemirror_mode": {
    "name": "ipython",
    "version": 3
   },
   "file_extension": ".py",
   "mimetype": "text/x-python",
   "name": "python",
   "nbconvert_exporter": "python",
   "pygments_lexer": "ipython3",
   "version": "3.10.6"
  }
 },
 "nbformat": 4,
 "nbformat_minor": 2
}
