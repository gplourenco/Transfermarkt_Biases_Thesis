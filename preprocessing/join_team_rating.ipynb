{
 "cells": [
  {
   "cell_type": "code",
   "execution_count": 1,
   "metadata": {},
   "outputs": [],
   "source": [
    "# Let's load the two CSV files first to inspect their content.\n",
    "import pandas as pd\n",
    "\n",
    "# Load the two CSV files\n",
    "outfielder_data = pd.read_csv('../data/processed/outfielder_opi.csv')\n",
    "team_ratings = pd.read_csv('../data/processed/team_ratings.csv')"
   ]
  },
  {
   "cell_type": "code",
   "execution_count": 2,
   "metadata": {},
   "outputs": [],
   "source": [
    "# First, we'll create a dictionary to map season column names in the team_ratings to the corresponding seasons in the outfielder data.\n",
    "season_mapping = {\n",
    "    '2017/2018': '2017-2018',\n",
    "    '2018/2019': '2018-2019',\n",
    "    '2019/2020': '2019-2020',\n",
    "    '2020/2021': '2020-2021'\n",
    "}\n",
    "\n",
    "# Create a function to retrieve the appropriate team rating based on the season and team\n",
    "def get_team_rating(row, ratings_df, season_mapping):\n",
    "    # Get the season and team\n",
    "    team = row['Team']\n",
    "    season = row['Season']\n",
    "    \n",
    "    # Get the corresponding column for the season in the ratings dataframe\n",
    "    if season in season_mapping:\n",
    "        season_column = season_mapping[season]\n",
    "        # Find the rating for the specific team and season\n",
    "        team_rating = ratings_df.loc[ratings_df['team'] == team, season_column]\n",
    "        if not team_rating.empty:\n",
    "            return team_rating.values[0]\n",
    "    return None  # Return None if no match is found"
   ]
  },
  {
   "cell_type": "code",
   "execution_count": 3,
   "metadata": {},
   "outputs": [],
   "source": [
    "# Create a manual mapping of the teams with mismatched names\n",
    "team_name_mapping = {\n",
    "    'Manchester Utd': 'Man United',\n",
    "    'Manchester City': 'Man City',\n",
    "    'Mainz 05': 'Mainz',\n",
    "    'Celta Vigo': 'Celta',\n",
    "    'Athletic Club': 'Ath Bilbao',\n",
    "    'Real Sociedad': 'Sociedad',\n",
    "    'Leicester City': 'Leicester',\n",
    "    'Stoke City': 'Stoke',\n",
    "    'Saint-Étienne': 'St Etienne',\n",
    "    'Atlético Madrid': 'Ath Madrid',\n",
    "    'Köln': 'FC Koln',\n",
    "    'Hertha BSC': 'Hertha',\n",
    "    'Arminia': 'Bielefeld',\n",
    "    'Swansea City': 'Swansea',\n",
    "    'Hellas Verona': 'Verona',\n",
    "    'Leeds United': 'Leeds',\n",
    "    'Hamburger SV': 'Hamburg',\n",
    "    'Düsseldorf': 'Fortuna Dusseldorf',\n",
    "    'Rayo Vallecano': 'Vallecano',\n",
    "    'Norwich City': 'Norwich',\n",
    "    'Espanyol': 'Espanol',\n",
    "    'Alavés': 'Alaves',\n",
    "    'Paris S-G': 'Paris SG',\n",
    "    'Leganés': 'Leganes',\n",
    "    'Eint Frankfurt': 'Ein Frankfurt',\n",
    "    'Newcastle Utd': 'Newcastle',\n",
    "    'Nîmes': 'Nimes',\n",
    "    'SPAL': 'Spal',\n",
    "    \"M'Gladbach\": \"M'gladbach\",\n",
    "    'La Coruña': 'La Coruna',\n",
    "    'Málaga': 'Malaga',\n",
    "    'Sheffield Utd': 'Sheffield United',\n",
    "    'Hannover 96': 'Hannover',\n",
    "    'Cádiz': 'Cadiz'\n",
    "}\n",
    "\n",
    "# Update the team names in the outfielder data\n",
    "outfielder_data['Team'] = outfielder_data['Team'].replace(team_name_mapping)\n",
    "\n",
    "# Reapply the previous team rating matching logic\n",
    "outfielder_data['Team_Rating'] = outfielder_data.apply(get_team_rating, axis=1, ratings_df=team_ratings, season_mapping=season_mapping)\n"
   ]
  },
  {
   "cell_type": "code",
   "execution_count": 4,
   "metadata": {},
   "outputs": [],
   "source": [
    "#Save the data\n",
    "outfielder_data.to_csv('../data/processed/outfielder_data_with_team_ratings.csv', index=False)"
   ]
  },
  {
   "cell_type": "code",
   "execution_count": 5,
   "metadata": {},
   "outputs": [],
   "source": [
    "gk_data = pd.read_csv('../data/processed/goalkeeper_opi.csv')"
   ]
  },
  {
   "cell_type": "code",
   "execution_count": 6,
   "metadata": {},
   "outputs": [],
   "source": [
    "# Apply the same logic to the goalkeeper data\n",
    "gk_data['Team'] = gk_data['Team'].replace(team_name_mapping)\n",
    "gk_data['Team_Rating'] = gk_data.apply(get_team_rating, axis=1, ratings_df=team_ratings, season_mapping=season_mapping)\n",
    "\n",
    "# Save the goalkeeper data\n",
    "gk_data.to_csv('../data/processed/goalkeeper_data_with_team_ratings.csv', index=False)"
   ]
  },
  {
   "cell_type": "code",
   "execution_count": 8,
   "metadata": {},
   "outputs": [],
   "source": [
    "columns_to_include = [\n",
    "    'Player', 'Team', 'Age', 'Nationality', 'Season', \n",
    "    'MV1', 'MV2','Position', 'Comp', 'MP', 'Starts', \n",
    "    'Min', '90s', 'Overall_Performance_Index', 'Team_Rating'\n",
    "]\n",
    "\n",
    "# Merge the outfielder and goalkeeper data\n",
    "merged_data = pd.concat([outfielder_data[columns_to_include], gk_data[columns_to_include]])\n",
    "\n",
    "# Save the merged data\n",
    "merged_data.to_csv('../data/processed/merged_data_with_team_ratings.csv', index=False)\n"
   ]
  }
 ],
 "metadata": {
  "kernelspec": {
   "display_name": "general_env",
   "language": "python",
   "name": "python3"
  },
  "language_info": {
   "codemirror_mode": {
    "name": "ipython",
    "version": 3
   },
   "file_extension": ".py",
   "mimetype": "text/x-python",
   "name": "python",
   "nbconvert_exporter": "python",
   "pygments_lexer": "ipython3",
   "version": "3.10.6"
  }
 },
 "nbformat": 4,
 "nbformat_minor": 2
}
