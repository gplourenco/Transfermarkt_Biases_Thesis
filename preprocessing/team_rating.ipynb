{
 "cells": [
  {
   "cell_type": "code",
   "execution_count": 11,
   "metadata": {},
   "outputs": [],
   "source": [
    "import penaltyblog as pb\n",
    "import pandas as pd"
   ]
  },
  {
   "cell_type": "code",
   "execution_count": 16,
   "metadata": {},
   "outputs": [],
   "source": [
    "season_list = ['2017-2018', '2018-2019', '2019-2020', '2020-2021']\n",
    "league_list = ['ENG Premier League', 'ESP La Liga', 'ITA Serie A', 'DEU Bundesliga 1', 'FRA Ligue 1']\n",
    "\n",
    "final_rating_dict = {}\n",
    "\n",
    "for league in league_list:\n",
    "    rating_dict = {}\n",
    "    for season in season_list:\n",
    "        fbd = pb.scrapers.FootballData(league, season)\n",
    "        df = fbd.get_fixtures()\n",
    "        # Get ratings for each season and league\n",
    "        massey = pb.ratings.Massey(df[\"goals_home\"], df[\"goals_away\"], df[\"team_home\"], df[\"team_away\"])\n",
    "        rating = massey.get_ratings()[['team', 'rating']].sort_values(by='rating', ascending=False)\n",
    "\n",
    "        # Store ratings in dictionary\n",
    "        rating_dict[season] = rating.set_index('team')['rating']\n",
    "    # Store ratings for each league in the final dictionary\n",
    "    final_rating_dict[league] = pd.DataFrame(rating_dict)\n",
    "\n",
    "# Combine all league ratings into a single DataFrame\n",
    "rating_df = pd.concat(final_rating_dict, axis=0)"
   ]
  },
  {
   "cell_type": "code",
   "execution_count": 18,
   "metadata": {},
   "outputs": [],
   "source": [
    "rating_df.to_csv('../data/processed/team_ratings.csv')"
   ]
  }
 ],
 "metadata": {
  "kernelspec": {
   "display_name": "general_env",
   "language": "python",
   "name": "python3"
  },
  "language_info": {
   "codemirror_mode": {
    "name": "ipython",
    "version": 3
   },
   "file_extension": ".py",
   "mimetype": "text/x-python",
   "name": "python",
   "nbconvert_exporter": "python",
   "pygments_lexer": "ipython3",
   "version": "3.10.6"
  }
 },
 "nbformat": 4,
 "nbformat_minor": 2
}
